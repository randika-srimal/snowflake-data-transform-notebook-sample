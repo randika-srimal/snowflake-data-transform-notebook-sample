{
 "cells": [
  {
   "cell_type": "code",
   "execution_count": null,
   "id": "3775908f-ca36-4846-8f38-5adca39217f2",
   "metadata": {
    "language": "python",
    "name": "cell1"
   },
   "outputs": [],
   "source": [
    "# Import python packages\n",
    "import pandas as pd\n",
    "# We can also use Snowpark for our analyses!\n",
    "from snowflake.snowpark.context import get_active_session\n",
    "session = get_active_session()"
   ]
  },
  {
   "cell_type": "code",
   "execution_count": null,
   "id": "8d50cbf4-0c8d-4950-86cb-114990437ac9",
   "metadata": {
    "collapsed": false,
    "language": "sql",
    "name": "cell2"
   },
   "outputs": [],
   "source": [
    "select * from testing_db.public.users where EMAIL IS NULL;"
   ]
  },
  {
   "cell_type": "code",
   "execution_count": null,
   "id": "c695373e-ac74-4b62-a1f1-08206cbd5c81",
   "metadata": {
    "collapsed": false,
    "language": "python",
    "name": "cell3"
   },
   "outputs": [],
   "source": [
    "formatted_datalist = []\n",
    "my_df = cell2.to_pandas()\n",
    "my_df = my_df.reset_index()  # make sure indexes pair with number of rows\n",
    "\n",
    "for index, row in my_df.iterrows():\n",
    "    formatted_datalist.append([row['USERNAME'], row['USERNAME']+'@gmail.com'])\n",
    "\n",
    "formatted_pandas_df = pd.DataFrame(formatted_datalist, columns=['USERNAME', 'EMAIL'])\n",
    "\n",
    "formatted_snowpark_df = session.create_dataframe(data=formatted_pandas_df)\n",
    "\n",
    "# print dataframe.\n",
    "formatted_snowpark_df.show()"
   ]
  }
 ],
 "metadata": {
  "kernelspec": {
   "display_name": "Streamlit Notebook",
   "name": "streamlit"
  }
 },
 "nbformat": 4,
 "nbformat_minor": 5
}
