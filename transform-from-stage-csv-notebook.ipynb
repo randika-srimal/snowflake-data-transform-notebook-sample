{
 "cells": [
  {
   "cell_type": "code",
   "execution_count": null,
   "id": "3775908f-ca36-4846-8f38-5adca39217f2",
   "metadata": {
    "language": "python",
    "name": "cell1"
   },
   "outputs": [],
   "source": [
    "import uuid\n",
    "# We can also use Snowpark for our analyses!\n",
    "from snowflake.snowpark.context import get_active_session\n",
    "from snowflake.snowpark.functions import when_matched, when_not_matched,col\n",
    "from snowflake.snowpark.types import StructType, StructField, IntegerType, StringType, FloatType\n",
    "\n",
    "session = get_active_session()"
   ]
  },
  {
   "cell_type": "code",
   "execution_count": null,
   "id": "8d50cbf4-0c8d-4950-86cb-114990437ac9",
   "metadata": {
    "collapsed": false,
    "language": "sql",
    "name": "cell2"
   },
   "outputs": [],
   "source": [
    "# CSV Schema\n",
    "user_schema = StructType([StructField(\"USERNAME\", StringType()), StructField(\"EMAIL\", StringType()), StructField(\"IDENTIFIER\", StringType())])\n",
    "# Create a stage and upload the file to the stage\n",
    "df = session.read.options({\"field_delimiter\": \";\", \"skip_header\": 1}).schema(user_schema).csv(\"@sample_stage/username-or-email.csv\")\n",
    "\n",
    "csv_data = df.collect()"
   ]
  },
  {
   "cell_type": "code",
   "execution_count": null,
   "id": "c695373e-ac74-4b62-a1f1-08206cbd5c81",
   "metadata": {
    "collapsed": false,
    "language": "python",
    "name": "cell3"
   },
   "outputs": [],
   "source": [
    "formatted_datalist = []\n",
    "\n",
    "for row in csv_data:\n",
    "    formatted_datalist.append([row['USERNAME'], str(uuid.uuid4())+'@gmail.com'])\n",
    "    \n",
    "formatted_snowpark_df = session.create_dataframe(data=formatted_datalist, schema=[\"USERNAME\", \"EMAIL\"])\n",
    "\n",
    "target = session.table([\"testing_db\",\"public\",\"users\"])\n",
    "\n",
    "target.merge(formatted_snowpark_df, (target[\"USERNAME\"] == formatted_snowpark_df[\"USERNAME\"]),\n",
    "        [when_matched().update({\"EMAIL\": formatted_snowpark_df[\"EMAIL\"]}), when_not_matched().insert(\n",
    "            {\"USERNAME\": formatted_snowpark_df[\"USERNAME\"]}\n",
    "        )])\n",
    "\n",
    "target.show()"
   ]
  }
 ],
 "metadata": {
  "kernelspec": {
   "display_name": "Streamlit Notebook",
   "name": "streamlit"
  }
 },
 "nbformat": 4,
 "nbformat_minor": 5
}
